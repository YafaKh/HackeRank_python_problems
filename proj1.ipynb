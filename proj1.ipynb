{
 "cells": [
  {
   "cell_type": "code",
   "execution_count": 3,
   "id": "d7bf94a5",
   "metadata": {},
   "outputs": [
    {
     "name": "stdout",
     "output_type": "stream",
     "text": [
      "Finished 'waste_some_time' in 0.0052 secs\n",
      "Finished 'waste_some_time' in 0.0582 secs\n",
      "Finished 'waste_some_time' in 1.0424 secs\n"
     ]
    }
   ],
   "source": [
    "#Q1\n",
    "#A\n",
    "import functools\n",
    "import time\n",
    "def timer(func):\n",
    "    \"\"\"Print the runtime of the decorated function\"\"\"\n",
    "    @functools.wraps(func)\n",
    "    def wrapper_timer(*args, **kwargs):\n",
    "        # befor\n",
    "        start_time = time.perf_counter() # 1\n",
    "        # calling function\n",
    "        value = func(*args, **kwargs)\n",
    "        # after\n",
    "        end_time = time.perf_counter() # 2\n",
    "        run_time = end_time - start_time # 3\n",
    "        print(f\"Finished {func.__name__!r} in {run_time:.4f} secs\")\n",
    "        return value\n",
    "    return wrapper_timer\n",
    "\n",
    "@timer\n",
    "def waste_some_time(num_times):\n",
    "    for _ in range(num_times):\n",
    "        sum([i**2 for i in range(10000)])\n",
    "        \n",
    "waste_some_time(1)\n",
    "waste_some_time(10)\n",
    "waste_some_time(203)\n"
   ]
  },
  {
   "cell_type": "code",
   "execution_count": 4,
   "id": "716e9ef7",
   "metadata": {},
   "outputs": [
    {
     "name": "stdout",
     "output_type": "stream",
     "text": [
      "0.05167760000040289\n",
      "0.5431843000114895\n",
      "8.641447100002551\n",
      "4.693405999991228\n",
      "1.2632718999957433\n"
     ]
    }
   ],
   "source": [
    "#B\n",
    "import timeit\n",
    "\n",
    "def waste_some_time(num_times):\n",
    "    for _ in range(num_times):\n",
    "        sum([i**2 for i in range(10000)])\n",
    "\n",
    "print(timeit.timeit(lambda: waste_some_time(1), number=10))\n",
    "print(timeit.timeit(lambda: waste_some_time(10), number=10))\n",
    "print(timeit.timeit(lambda: waste_some_time(203), number=10))\n",
    "print(timeit.timeit(lambda: waste_some_time(203), number=4))\n",
    "print(timeit.timeit(lambda: waste_some_time(203), number=1))"
   ]
  },
  {
   "cell_type": "code",
   "execution_count": 5,
   "id": "6ba7ef78",
   "metadata": {},
   "outputs": [
    {
     "data": {
      "text/plain": [
       "\"\\nI believe the primary distinction between the two is that the 'timeit' module offers the capability to execute \\nthe code multiple times and calculate the average duration across all attempts. While this feature aims \\nto provide greater accuracy, I have observed that comparing two similar numbers always takes more time with 'timeit'. \\nAdditionally, increasing the number of execution times for the same number also results in longer execution times.\\nI haven't been able to determine the underlying cause of this behavior,\\nso I am looking forward to discussing it with Mr. Asem during the next discussion lecture.\\n\\n\\n\\n\\n\\n\""
      ]
     },
     "execution_count": 5,
     "metadata": {},
     "output_type": "execute_result"
    }
   ],
   "source": [
    "#C\n",
    "\"\"\"\n",
    "I believe the primary distinction between the two is that the 'timeit' module offers the capability to execute \n",
    "the code multiple times and calculate the average duration across all attempts. While this feature aims \n",
    "to provide greater accuracy, I have observed that comparing two similar numbers always takes more time with 'timeit'. \n",
    "Additionally, increasing the number of execution times for the same number also results in longer execution times.\n",
    "I haven't been able to determine the underlying cause of this behavior,\n",
    "so I am looking forward to discussing it with Mr. Asem during the next discussion lecture.\n",
    "\n",
    "\n",
    "\n",
    "\n",
    "\n",
    "\"\"\""
   ]
  },
  {
   "cell_type": "code",
   "execution_count": 6,
   "id": "36219b01",
   "metadata": {},
   "outputs": [
    {
     "data": {
      "text/plain": [
       "'\\nStatic methods are independent of both the class and its instances. SO, they do not refer to self (instance) \\nor cls (class) within the method definition. They are used for performing a specific task related to the class, \\nwithout the need to access or modify instance or class attributes.\\nStatic methods can be called both on the class itself and on instances of the class.\\n\\nWile class methods are associated with the class itself, not with instances. So, they are shared among all instances\\nof the class. Within the method definition, the first parameter conventionally named cls is used to refer to the class.\\n\\n'"
      ]
     },
     "execution_count": 6,
     "metadata": {},
     "output_type": "execute_result"
    }
   ],
   "source": [
    "#Q2\n",
    "\"\"\"\n",
    "Static methods are independent of both the class and its instances. SO, they do not refer to self (instance) \n",
    "or cls (class) within the method definition. They are used for performing a specific task related to the class, \n",
    "without the need to access or modify instance or class attributes.\n",
    "Static methods can be called both on the class itself and on instances of the class.\n",
    "\n",
    "Wile class methods are associated with the class itself, not with instances. So, they are shared among all instances\n",
    "of the class. Within the method definition, the first parameter conventionally named cls is used to refer to the class.\n",
    "\n",
    "\"\"\""
   ]
  },
  {
   "cell_type": "code",
   "execution_count": 7,
   "id": "8849328d",
   "metadata": {},
   "outputs": [
    {
     "name": "stdout",
     "output_type": "stream",
     "text": [
      "['asim', 'raghad', 'nabeel']\n",
      "['5:00 PM', '7:00 PM']\n",
      "['5:00 PM', '7:00 PM']\n",
      "YAFA - Certificate of Completion\n",
      "YAFA - Certificate of Completion\n",
      "AHMAD - Certificate of Completion\n"
     ]
    }
   ],
   "source": [
    "class Training:\n",
    "    # a class that represent GSG trainings !\n",
    "    \n",
    "    session_times = [\"5:00 PM\", \"7:00 PM\"]\n",
    "    \n",
    "    def __init__(self):\n",
    "        self.trainers = []\n",
    "\n",
    "    #instance methods\n",
    "    def set_trainers(self, trainers):\n",
    "        # Set the trainers for the training\n",
    "        self.trainers = trainers\n",
    "\n",
    "    def add_trainer(self, trainer):\n",
    "        # Add a single trainer to the training\n",
    "        self.trainers.append(trainer)\n",
    "        \n",
    "    #class method\n",
    "    @classmethod\n",
    "    def get_session_times(cls):\n",
    "        # supposing that session times are common for all trainings and retrieve them\n",
    "        return cls.session_times\n",
    "    \n",
    "    #static method\n",
    "    @staticmethod\n",
    "    def generate_certificate_name(name):\n",
    "        # genarate certificate name based on trainee name\n",
    "        # convert the name to uppercase and append \"Certificate of Completion\"\n",
    "        certificate_name = name.upper() + \" - Certificate of Completion\"\n",
    "        return certificate_name\n",
    "\n",
    "pythonTraining = Training()\n",
    "jsTraining = Training()\n",
    "\n",
    "pythonTraining.set_trainers(['asim', 'raghad'])\n",
    "pythonTraining.add_trainer('nabeel')\n",
    "print(pythonTraining.trainers)\n",
    "\n",
    "print(jsTraining.get_session_times())\n",
    "print(Training.get_session_times())\n",
    "\n",
    "\n",
    "print(Training.generate_certificate_name('yafa'))\n",
    "print(pythonTraining.generate_certificate_name('yafa'))\n",
    "print(jsTraining.generate_certificate_name('ahmad'))\n"
   ]
  },
  {
   "cell_type": "code",
   "execution_count": 8,
   "id": "46c6424c",
   "metadata": {},
   "outputs": [
    {
     "name": "stdout",
     "output_type": "stream",
     "text": [
      "e\n",
      "r\n",
      "There are no non-repeating characters.\n"
     ]
    }
   ],
   "source": [
    "#Q3\n",
    "def first_non_repeat_char(string):\n",
    "    char_set = {}\n",
    "    for char in string.lower():\n",
    "        if char != ' ':\n",
    "            char_set[char] = char_set.get(char, 0) + 1\n",
    "    for key,value in char_set.items():\n",
    "        if value == 1:\n",
    "            return key\n",
    "    return \"There are no non-repeating characters.\"\n",
    "\n",
    "print(first_non_repeat_char(\"Name naMag\"))\n",
    "print(first_non_repeat_char(\"ff rygu iii\"))\n",
    "print(first_non_repeat_char(\"NfnFnnf\"))"
   ]
  },
  {
   "cell_type": "code",
   "execution_count": null,
   "id": "49434b4e",
   "metadata": {},
   "outputs": [],
   "source": []
  }
 ],
 "metadata": {
  "kernelspec": {
   "display_name": "Python 3 (ipykernel)",
   "language": "python",
   "name": "python3"
  },
  "language_info": {
   "codemirror_mode": {
    "name": "ipython",
    "version": 3
   },
   "file_extension": ".py",
   "mimetype": "text/x-python",
   "name": "python",
   "nbconvert_exporter": "python",
   "pygments_lexer": "ipython3",
   "version": "3.10.9"
  }
 },
 "nbformat": 4,
 "nbformat_minor": 5
}
